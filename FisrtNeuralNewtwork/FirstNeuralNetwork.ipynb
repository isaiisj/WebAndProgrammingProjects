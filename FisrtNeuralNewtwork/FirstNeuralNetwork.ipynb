{
  "nbformat": 4,
  "nbformat_minor": 0,
  "metadata": {
    "colab": {
      "provenance": [],
      "gpuType": "T4"
    },
    "kernelspec": {
      "name": "python3",
      "display_name": "Python 3"
    },
    "language_info": {
      "name": "python"
    },
    "accelerator": "GPU"
  },
  "cells": [
    {
      "cell_type": "code",
      "execution_count": 2,
      "metadata": {
        "id": "TLD0PqdLF5fG"
      },
      "outputs": [],
      "source": [
        "'''This Neural Netwrok converts Celsius to Farenheit'''\n",
        "import tensorflow as tf\n",
        "import numpy as np"
      ]
    },
    {
      "cell_type": "code",
      "source": [
        "#Array of Farenheit values to train\n",
        "celsius = np.array([-40,-10,0,8,15,22,38], dtype = float)\n",
        "# Array of Celsius Values to train\n",
        "farenheit = np.array([-40, 14, 32, 46, 59,72,100], dtype = float)"
      ],
      "metadata": {
        "id": "-dyCLonWGKSk"
      },
      "execution_count": 5,
      "outputs": []
    },
    {
      "cell_type": "code",
      "source": [
        "'''Dense layer but we just have 2 neurons\n",
        "Dense(number of neurons, input neuron number)'''\n",
        "#capa = tf.keras.layers.Dense(units=1, input_shape=[1])\n",
        "#Model used: sequential\n",
        "#modelo = tf.keras.Sequential([capa])\n",
        "#****************************************\n",
        "#**********Model with 2 hidden layers with 3 neurons\n",
        "oculta1 = tf.keras.layers.Dense(units=3, input_shape=[1])\n",
        "oculta2 = tf.keras.layers.Dense(units=3)\n",
        "salida = tf.keras.layers.Dense(units=1)\n",
        "modelo = tf.keras.Sequential([oculta1, oculta2, salida])\n"
      ],
      "metadata": {
        "id": "XriFJOICG0d4"
      },
      "execution_count": 13,
      "outputs": []
    },
    {
      "cell_type": "code",
      "source": [
        "#Model optimizer and loss function\n",
        "modelo.compile(\n",
        "    optimizer = tf.keras.optimizers.Adam(0.1),\n",
        "    loss='mean_squared_error'\n",
        ")"
      ],
      "metadata": {
        "id": "lPF-FbynIQ6V"
      },
      "execution_count": 14,
      "outputs": []
    },
    {
      "cell_type": "code",
      "source": [
        "print(\"Comenzando entenamiento....\")\n",
        "#Fit function (input data, expected data, number of epochs)\n",
        "historial = modelo.fit(celsius, farenheit, epochs = 1000, verbose=False)\n",
        "print(\"Modelo entrenado\")"
      ],
      "metadata": {
        "colab": {
          "base_uri": "https://localhost:8080/"
        },
        "id": "AtR30q_aIsxp",
        "outputId": "27808a6e-2f8d-4b31-e436-99717ce3f44c"
      },
      "execution_count": 15,
      "outputs": [
        {
          "output_type": "stream",
          "name": "stdout",
          "text": [
            "Comenzando entenamiento....\n",
            "Modelo entrenado\n"
          ]
        }
      ]
    },
    {
      "cell_type": "code",
      "source": [
        "import matplotlib.pyplot as plt\n",
        "plt.xlabel(\"# epoca\")\n",
        "plt.ylabel(\"Magnitud de pérdida\")\n",
        "plt.plot(historial.history[\"loss\"])"
      ],
      "metadata": {
        "colab": {
          "base_uri": "https://localhost:8080/",
          "height": 466
        },
        "id": "RH5iFfC6JZCO",
        "outputId": "7fd899a5-d18e-43ca-d5fc-b48cf26915af"
      },
      "execution_count": 16,
      "outputs": [
        {
          "output_type": "execute_result",
          "data": {
            "text/plain": [
              "[<matplotlib.lines.Line2D at 0x7d35939f0730>]"
            ]
          },
          "metadata": {},
          "execution_count": 16
        },
        {
          "output_type": "display_data",
          "data": {
            "text/plain": [
              "<Figure size 640x480 with 1 Axes>"
            ],
            "image/png": "[encoded data removed]"
          },
          "metadata": {}
        }
      ]
    },
    {
      "cell_type": "code",
      "source": [
        "print(\"Hagamos una predicción\")\n",
        "resultado = modelo.predict([100.0])\n",
        "# 100 Celsiud should be 212 Farenheit\n",
        "print(f\"El resultado es: {resultado} farenheit!\")"
      ],
      "metadata": {
        "colab": {
          "base_uri": "https://localhost:8080/"
        },
        "id": "iXtvdiQDJtr5",
        "outputId": "8d01b90f-3c3e-40f5-a05e-ab1e6c25d3d7"
      },
      "execution_count": 17,
      "outputs": [
        {
          "output_type": "stream",
          "name": "stdout",
          "text": [
            "Hagamos una predicción\n",
            "1/1 [==============================] - 0s 69ms/step\n",
            "El resultado es: [[211.74744]] farenheit!\n"
          ]
        }
      ]
    },
    {
      "cell_type": "code",
      "source": [
        "print(\"variables internas del modelo\")\n",
        "#print(capa.get_weights())\n",
        "print(oculta1.get_weights())\n",
        "print(oculta2.get_weights())\n",
        "print(salida.get_weights())"
      ],
      "metadata": {
        "colab": {
          "base_uri": "https://localhost:8080/"
        },
        "id": "58LfXIyVK2yf",
        "outputId": "f45e7a33-9238-4c4c-a563-d8c4c399c664"
      },
      "execution_count": 18,
      "outputs": [
        {
          "output_type": "stream",
          "name": "stdout",
          "text": [
            "variables internas del modelo\n",
            "[array([[ 0.67385125,  0.09453189, -0.20471182]], dtype=float32), array([ 3.0502055, -2.6621623, -2.9467843], dtype=float32)]\n",
            "[array([[-0.82974863,  1.0781018 ,  0.46658486],\n",
            "       [ 0.9972047 , -1.0212294 , -0.332249  ],\n",
            "       [ 0.3905678 , -0.30234244, -0.88483936]], dtype=float32), array([-3.033345 ,  3.0384626,  2.9776738], dtype=float32)]\n",
            "[array([[-0.80544543],\n",
            "       [ 0.91234463],\n",
            "       [ 1.5683709 ]], dtype=float32), array([2.9612556], dtype=float32)]\n"
          ]
        }
      ]
    }
  ]
}